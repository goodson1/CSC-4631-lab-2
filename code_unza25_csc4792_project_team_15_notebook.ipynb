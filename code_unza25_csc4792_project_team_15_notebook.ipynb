{
  "nbformat": 4,
  "nbformat_minor": 0,
  "metadata": {
    "colab": {
      "provenance": [],
      "toc_visible": true,
      "include_colab_link": true
    },
    "kernelspec": {
      "name": "python3",
      "display_name": "Python 3"
    },
    "language_info": {
      "name": "python"
    }
  },
  "cells": [
    {
      "cell_type": "markdown",
      "metadata": {
        "id": "view-in-github",
        "colab_type": "text"
      },
      "source": [
        "<a href=\"https://colab.research.google.com/github/goodson1/CSC-4631-lab-2/blob/main/code_unza25_csc4792_project_team_15_notebook.ipynb\" target=\"_parent\"><img src=\"https://colab.research.google.com/assets/colab-badge.svg\" alt=\"Open In Colab\"/></a>"
      ]
    },
    {
      "cell_type": "markdown",
      "source": [
        "#1.Business Understanding\n",
        "##1.1 Introduction\n",
        "The Journal of Law and Social Sciences publishes articles spanning multiple disciplines of both law and social sciences. Some of the Law disciplines include Civic Law, Criminal Law, Constitutional Law, Sociology of Law, Public Policy, Criminology, Legal Theory, and many others. While the other disciplines in Social Studies include Political Science, Economics, Sociology, Gender Studies, Cultural Studies, and also many others. Categorization of journals into their specific discipline is currently manual and inconsistent, which makes see search, browsing, and content recommendation inefficient. This project will develop an automatic text classification system (model) that predicts an article’s discipline from its title and abstract, improving discoverability and reducing editorial effort.\n",
        "\n",
        "##1.2 Business Objectives\n",
        "Primary objectives:\n",
        "\n",
        "Automate classification of journal articles into discipline categories to speed up editorial workflows and enhance content discovery.\n",
        "\n",
        "Success at this stage means producing a prototype that demonstrates that article titles and abstracts can be used to predict the correct discipline with a level of accuracy 75%, but may be improved after further iterations. The exact performance threshold  will be confirmed once more requirements are clarified.\n",
        "\n",
        "##1.3 Data Mining Goals\n",
        "Build an initial supervised classification model that can assign one of the predefined disciplines to a given journal article, using only its title and abstract as input features.\n",
        "\n",
        "Document and evaluate preprocessing and modeling choices to ensure results are reproducible and explainable.\n",
        "\n",
        "These goals may be adjusted once the available data is fully understood.\n",
        "\n",
        "## 1.4 Initial Success Criteria\n",
        "Given that this is an early-stage CRISP-DM Business Understanding phase:\n",
        "\n",
        "Initial Iteration: The model should demonstrate and show clear potential for improvement. As an initial target, an accuracy of ≥ 70%  would indicate feasibility.\n",
        "\n",
        "Long-term Success: Once project requirements are fully defined, the target metrics will be refined to match editorial expectations e.g 85% accuracy\n",
        "\n",
        "Success will also be measured by stakeholder feedback on the interpretability of the results and the usefulness of the proposed classification output.\n",
        "\n",
        "\n",
        "## 1.5 Assumptions and Risks\n",
        "\n",
        "We assume access to a fully labeled dataset of articles (titles, abstracts, and discipline labels).\n",
        "\n",
        "The exact number of examples per class and the overall class distribution are unknown and could affect model choice.\n",
        "\n",
        "Labels may be highly subjective, potentially leading to some overlap between disciplines.\n",
        "\n",
        "Limited available labeled data could require extensive manual labeling to expand the dataset before modeling.\n",
        "\n",
        "## 1.6 Next Steps\n",
        "\n",
        "1. Confirm scope and requirements with team members </br>\n",
        "2. Assess data availability </br>\n",
        "3. confirm the size </br>\n",
        "4. quality </br>\n",
        "5. completeness of the dataset.</br>\n",
        "6. Proceed to Data Understanding phase (perform exploratory data analysis to examine class balance, text length, and potential preprocessing needs.)"
      ],
      "metadata": {
        "id": "lkgexVL2Ma7M"
      }
    },
    {
      "cell_type": "markdown",
      "source": [
        "<center>\n",
        "\n",
        "  <font size=6><b>CSC 4792: Data Mining and Warehousing</b></font><br />\n",
        "  <font size=5><b>Jupyter Notebook for the Journal of Law and Social Sciences article classifier model</b></font>\n",
        "\n",
        "  \n",
        "  Project Team #15 Members:</br> 1. Sydney Mulando</br> 2. Mambwe Chilebela</br> 3. Harrison Mwewa</br> 4. Goodson Mumbelunga</br> 5. Apollos Mwaba. </br>\n",
        "  \n",
        "\n",
        "</center>"
      ],
      "metadata": {
        "id": "7oqkcxbFQQku"
      }
    },
    {
      "cell_type": "code",
      "execution_count": null,
      "metadata": {
        "colab": {
          "base_uri": "https://localhost:8080/"
        },
        "id": "WP4p-7O6HWCs",
        "outputId": "99c7e51e-96b6-4a92-c55c-6a9f1c7051e7"
      },
      "outputs": [
        {
          "output_type": "stream",
          "name": "stdout",
          "text": [
            "fatal: destination path 'code-unza15-CSC-4792-project-team-15-repository-for-project-team-15' already exists and is not an empty directory.\n"
          ]
        }
      ],
      "source": [
        "!Here is a link to our repository https://github.com/geekysydney/code-unza15-CSC-4792-project-team-15-repository-for-project-team-15.git\n",
        "\n"
      ]
    }
  ]
}